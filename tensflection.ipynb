{
 "cells": [
  {
   "cell_type": "markdown",
   "source": [
    "# Import statements\n",
    "## We rely on regex, spacy, pandas and pyinflect"
   ],
   "metadata": {
    "collapsed": false,
    "pycharm": {
     "name": "#%% md\n"
    }
   }
  },
  {
   "cell_type": "code",
   "execution_count": 1,
   "outputs": [],
   "source": [
    "import re\n",
    "import spacy\n",
    "import pandas as pd\n",
    "import pyinflect"
   ],
   "metadata": {
    "collapsed": false,
    "pycharm": {
     "name": "#%%\n"
    }
   }
  },
  {
   "cell_type": "markdown",
   "source": [
    "## Let's load a small model to handle dependency parsing of the text."
   ],
   "metadata": {
    "collapsed": false,
    "pycharm": {
     "name": "#%% md\n"
    }
   }
  },
  {
   "cell_type": "code",
   "execution_count": 2,
   "outputs": [],
   "source": [
    "nlp = spacy.load('en_core_web_sm')"
   ],
   "metadata": {
    "collapsed": false,
    "pycharm": {
     "name": "#%%\n"
    }
   }
  },
  {
   "cell_type": "markdown",
   "source": [
    "## Read in sample data, this is csv, with clinical notes segmented into the subjective and objective portions"
   ],
   "metadata": {
    "collapsed": false,
    "pycharm": {
     "name": "#%% md\n"
    }
   }
  },
  {
   "cell_type": "code",
   "execution_count": 3,
   "outputs": [
    {
     "data": {
      "text/plain": "     Unnamed: 0                                          Full Note  \\\n0             0  SUBJECTIVE:,  This 23-year-old white female pr...   \n1             1  HISTORY OF PRESENT ILLNESS: , I have seen ABC ...   \n2             2  PAST MEDICAL HISTORY:,  Significant for hypert...   \n3             3  CHIEF COMPLAINT:,  Urinary retention.,HISTORY ...   \n4             4  CHIEF COMPLAINT: , Right distal ureteral calcu...   \n..          ...                                                ...   \n135         135  CHIEF COMPLAINT: , Severe back pain and sleepi...   \n136         136  CHIEF COMPLAINT:,  Status epilepticus.,HISTORY...   \n137         137  City, State,Dear Dr. Y:,I had the pleasure of ...   \n138         138  REASON FOR CONSULTATION: , New-onset seizure.,...   \n139         139  HISTORY OF PRESENT ILLNESS: ,The patient is a ...   \n\n    High Quality Note  Top 100 Note  \n0                 Yes           NaN  \n1                 Yes           1.0  \n2                 Yes           NaN  \n3                 Yes           1.0  \n4                 Yes           NaN  \n..                ...           ...  \n135               Yes           1.0  \n136               Yes           1.0  \n137               Yes           1.0  \n138               Yes           1.0  \n139               Yes           1.0  \n\n[140 rows x 4 columns]",
      "text/html": "<div>\n<style scoped>\n    .dataframe tbody tr th:only-of-type {\n        vertical-align: middle;\n    }\n\n    .dataframe tbody tr th {\n        vertical-align: top;\n    }\n\n    .dataframe thead th {\n        text-align: right;\n    }\n</style>\n<table border=\"1\" class=\"dataframe\">\n  <thead>\n    <tr style=\"text-align: right;\">\n      <th></th>\n      <th>Unnamed: 0</th>\n      <th>Full Note</th>\n      <th>High Quality Note</th>\n      <th>Top 100 Note</th>\n    </tr>\n  </thead>\n  <tbody>\n    <tr>\n      <th>0</th>\n      <td>0</td>\n      <td>SUBJECTIVE:,  This 23-year-old white female pr...</td>\n      <td>Yes</td>\n      <td>NaN</td>\n    </tr>\n    <tr>\n      <th>1</th>\n      <td>1</td>\n      <td>HISTORY OF PRESENT ILLNESS: , I have seen ABC ...</td>\n      <td>Yes</td>\n      <td>1.0</td>\n    </tr>\n    <tr>\n      <th>2</th>\n      <td>2</td>\n      <td>PAST MEDICAL HISTORY:,  Significant for hypert...</td>\n      <td>Yes</td>\n      <td>NaN</td>\n    </tr>\n    <tr>\n      <th>3</th>\n      <td>3</td>\n      <td>CHIEF COMPLAINT:,  Urinary retention.,HISTORY ...</td>\n      <td>Yes</td>\n      <td>1.0</td>\n    </tr>\n    <tr>\n      <th>4</th>\n      <td>4</td>\n      <td>CHIEF COMPLAINT: , Right distal ureteral calcu...</td>\n      <td>Yes</td>\n      <td>NaN</td>\n    </tr>\n    <tr>\n      <th>...</th>\n      <td>...</td>\n      <td>...</td>\n      <td>...</td>\n      <td>...</td>\n    </tr>\n    <tr>\n      <th>135</th>\n      <td>135</td>\n      <td>CHIEF COMPLAINT: , Severe back pain and sleepi...</td>\n      <td>Yes</td>\n      <td>1.0</td>\n    </tr>\n    <tr>\n      <th>136</th>\n      <td>136</td>\n      <td>CHIEF COMPLAINT:,  Status epilepticus.,HISTORY...</td>\n      <td>Yes</td>\n      <td>1.0</td>\n    </tr>\n    <tr>\n      <th>137</th>\n      <td>137</td>\n      <td>City, State,Dear Dr. Y:,I had the pleasure of ...</td>\n      <td>Yes</td>\n      <td>1.0</td>\n    </tr>\n    <tr>\n      <th>138</th>\n      <td>138</td>\n      <td>REASON FOR CONSULTATION: , New-onset seizure.,...</td>\n      <td>Yes</td>\n      <td>1.0</td>\n    </tr>\n    <tr>\n      <th>139</th>\n      <td>139</td>\n      <td>HISTORY OF PRESENT ILLNESS: ,The patient is a ...</td>\n      <td>Yes</td>\n      <td>1.0</td>\n    </tr>\n  </tbody>\n</table>\n<p>140 rows × 4 columns</p>\n</div>"
     },
     "execution_count": 3,
     "metadata": {},
     "output_type": "execute_result"
    }
   ],
   "source": [
    "df = pd.read_csv('/home/karl/PycharmProjects/tenseflection/examples.csv') # update your path\n",
    "df"
   ],
   "metadata": {
    "collapsed": false,
    "pycharm": {
     "name": "#%%\n"
    }
   }
  },
  {
   "cell_type": "markdown",
   "source": [
    "## This is the main body of the functions used to convert the notes to past tense.\n",
    "## This is a portion of the use-case for the start-up, but not the main deep learning NLP task.\n"
   ],
   "metadata": {
    "collapsed": false,
    "pycharm": {
     "name": "#%% md\n"
    }
   }
  },
  {
   "cell_type": "code",
   "execution_count": 4,
   "outputs": [],
   "source": [
    "def containsnumber(value):\n",
    "    \"\"\"\n",
    "    This is a helper fuction for the past_tense function\n",
    "    This checks if a string contains a character that is a digit\n",
    "    :param value:\n",
    "    :return:\n",
    "    \"\"\"\n",
    "    for character in value:\n",
    "        if character.isdigit():\n",
    "            return True\n",
    "    return False\n",
    "\n",
    "def past_tenser(txt):\n",
    "\n",
    "    \"\"\"\n",
    "    This is the main function that performs the generation of an all past tense medical note.\n",
    "    First person subject and direct objects are also handled. We handle this by substituting\n",
    "    out the words I|we|our etc. for their respective 3rd person counterparts or the noun phrase:\n",
    "     \"the provider\"\n",
    "    :param txt:\n",
    "    :return:\n",
    "    \"\"\"\n",
    "\n",
    "    # Handling first person\n",
    "    txt = re.sub(r\"\\b(I|Myself|myself|My self|my self|Me|me)\\b\",\"The provider\", txt)\n",
    "    txt = re.sub(r\"\\b(I|Myself|myself|My self|my self|Me|me)\\b\",\"the provider\", txt)\n",
    "    txt = re.sub(r\"\\b(we)\\b\",\"they\", txt)\n",
    "    txt = re.sub(r\"\\b(Ourselves|ourselves|Our self|our self|Me|me)\\b\",\"their\", txt)\n",
    "    txt = re.sub(r\"\\b(My)\\b\", \"The provider's\", txt)\n",
    "    txt = re.sub(r\"\\b(my)\\b\", \"the provider's\", txt)\n",
    "    txt = re.sub(r\"\\b(Mine)\\b\", \"The provider's\", txt)\n",
    "    txt = re.sub(r\"\\b(mine)\\b\", \"the provider's\", txt)\n",
    "    txt = re.sub(r\"\\b(presents)\\b\", \"presented\", txt)\n",
    "    txt = re.sub(r\"\\b(today)\\b\", \"\", txt)\n",
    "\n",
    "\n",
    "    # Begin blocks for changing to past tense.\n",
    "\n",
    "    # Noting here that sometimes SpaCy dependency parser mistakes verbs that have same spelling\n",
    "    # as nouns i.e. presents - will mistake the verb for a noun and so it will fail, in this case\n",
    "    # we manually handle presents with regex to maked presented. We could write a custom script to\n",
    "    # handle this type of exceptions, but that is beyond the scope of this module.\n",
    "\n",
    "    doc_dep = nlp(txt)\n",
    "    for i in range(len(doc_dep)):\n",
    "\n",
    "        tok = doc_dep[i]\n",
    "\n",
    "        try:\n",
    "            # Assigning previous tokens, or previous previous tokens, and next etc.\n",
    "\n",
    "            prev_tok = doc_dep[i - 1]\n",
    "            prev_prev_tok = doc_dep[i - 2]\n",
    "\n",
    "            next_tok = doc_dep[i + 1]\n",
    "            next_next_tok = doc_dep[i + 2]\n",
    "\n",
    "\n",
    "\n",
    "            if tok.pos_ == 'AUX' and str(tok.text).lower() == 'have':\n",
    "                txt = txt.replace(\" {} \".format(tok.text), \" had \")\n",
    "\n",
    "            if tok.pos_ == 'AUX' and str(tok.text).lower() == 'will':\n",
    "                txt = txt.replace(\" {} \".format(tok.text), \" would \")\n",
    "\n",
    "\n",
    "            # this next block is a complicated logic block to handle verbs without a preceding AUX verb, PLUS!!!:\n",
    "            # \"This patient is xx year old\" or \"This is a dd-year-old\"\n",
    "            # we don't want is to inflect to was - implies they are deceased\n",
    "\n",
    "            elif tok.tag_ in ['VB', 'VBP', 'VBZ', 'VBG'] and (prev_tok.pos_ != 'AUX' and prev_prev_tok.pos_ != 'AUX') and \\\n",
    "                    prev_tok.tag_ != 'TO' and (\n",
    "                    (str(prev_tok.text.lower()) != 'patient') and (\n",
    "                    str(prev_prev_tok.text.lower()) != 'the')) and not (\n",
    "                    ((str(next_tok.text.lower()) != 'a') and (containsnumber(next_next_tok.text)))\n",
    "            ):\n",
    "                # We are using replace and we have to be careful not to replace substrings of words\n",
    "                txt = txt.replace(\" {} \".format(tok.text), \" {} \".format(tok._.inflect(\"VBD\")))\n",
    "\n",
    "\n",
    "            # Handle the auxillary verb have -> had\n",
    "\n",
    "        except IndexError:\n",
    "            # If you access the children of the last token, you get index errors, so we suppress this\n",
    "            # This should not affect output as it would be exceedingly rare and grammatically incorrect\n",
    "            # to end on a token that is a verb that needs to be made past tense.\n",
    "\n",
    "            continue\n",
    "\n",
    "    return txt\n"
   ],
   "metadata": {
    "collapsed": false,
    "pycharm": {
     "name": "#%%\n"
    }
   }
  },
  {
   "cell_type": "markdown",
   "source": [
    "## Run the function on the notes"
   ],
   "metadata": {
    "collapsed": false,
    "pycharm": {
     "name": "#%% md\n"
    }
   }
  },
  {
   "cell_type": "code",
   "execution_count": 5,
   "outputs": [],
   "source": [
    "df['Past Tense'] = df['Full Note'].apply(lambda x: past_tenser(x))"
   ],
   "metadata": {
    "collapsed": false,
    "pycharm": {
     "name": "#%%\n"
    }
   }
  },
  {
   "cell_type": "markdown",
   "source": [
    "## Examine the output vs. original"
   ],
   "metadata": {
    "collapsed": false,
    "pycharm": {
     "name": "#%% md\n"
    }
   }
  },
  {
   "cell_type": "code",
   "execution_count": 7,
   "outputs": [
    {
     "name": "stdout",
     "output_type": "stream",
     "text": [
      "\n",
      "Example Index:  0\n",
      "\n",
      "Example Pre-processed SUBJECTIVE:,  This 23-year-old white female presents with complaint of allergies.  She used to have allergies when she lived in Seattle but she thinks they are worse here.  In the past, she has tried Claritin, and Zyrtec.  Both worked for short time but then seemed to lose effectiveness.  She has used Allegra also.  She used that last summer and she began using it again two weeks ago.  It does not appear to be working very well.  She has used over-the-counter sprays but no prescription nasal sprays.  She does have asthma but doest not require daily medication for this and does not think it is flaring up.,MEDICATIONS: , Her only medication currently is Ortho Tri-Cyclen and the Allegra.,ALLERGIES: , She has no known medicine allergies.,OBJECTIVE:,Vitals:  Weight was 130 pounds and blood pressure 124/78.,HEENT:  Her throat was mildly erythematous without exudate.  Nasal mucosa was erythematous and swollen.  Only clear drainage was seen.  TMs were clear.,Neck:  Supple without adenopathy.,Lungs:  Clear.,ASSESSMENT:,  Allergic rhinitis.,PLAN:,1.  She will try Zyrtec instead of Allegra again.  Another option will be to use loratadine.  She does not think she has prescription coverage so that might be cheaper.,2.  Samples of Nasonex two sprays in each nostril given for three weeks.  A prescription was written as well.\n",
      "\n",
      "Post-processed combined:  SUBJECTIVE:,  This 23-year-old white female presented with complaint of allergies.  She used to have allergies when she lived in Seattle but she thought they was worse here.  In the past, she had tried Claritin, and Zyrtec.  Both worked for short time but then seemed to lose effectiveness.  She had used Allegra also.  She used that last summer and she began used it again two weeks ago.  It did not appear to be working very well.  She had used over-the-counter sprays but no prescription nasal sprays.  She did have asthma but doest not required daily medication for this and did not think it was flaring up.,MEDICATIONS: , Her only medication currently was Ortho Tri-Cyclen and the Allegra.,ALLERGIES: , She had no known medicine allergies.,OBJECTIVE:,Vitals:  Weight was 130 pounds and blood pressure 124/78.,HEENT:  Her throat was mildly erythematous without exudate.  Nasal mucosa was erythematous and swollen.  Only clear drainage was seen.  TMs were clear.,Neck:  Supple without adenopathy.,Lungs:  Clear.,ASSESSMENT:,  Allergic rhinitis.,PLAN:,1.  She would try Zyrtec instead of Allegra again.  Another option would be to use loratadine.  She did not think she had prescription coverage so that might be cheaper.,2.  Samples of Nasonex two sprays in each nostril given for three weeks.  A prescription was written as well.\n",
      "################################################################################################################\n",
      "\n",
      "Example Index:  1\n",
      "\n",
      "Example Pre-processed HISTORY OF PRESENT ILLNESS: , I have seen ABC today.  He is a very pleasant gentleman who is 42 years old, 344 pounds.  He is 5'9\".  He has a BMI of 51.  He has been overweight for ten years since the age of 33, at his highest he was 358 pounds, at his lowest 260.  He is pursuing surgical attempts of weight loss to feel good, get healthy, and begin to exercise again.  He wants to be able to exercise and play volleyball.  Physically, he is sluggish.  He gets tired quickly.  He does not go out often.  When he loses weight he always regains it and he gains back more than he lost.  His biggest weight loss is 25 pounds and it was three months before he gained it back.  He did six months of not drinking alcohol and not taking in many calories.  He has been on multiple commercial weight loss programs including Slim Fast for one month one year ago and Atkin's Diet for one month two years ago.,PAST MEDICAL HISTORY: , He has difficulty climbing stairs, difficulty with airline seats, tying shoes, used to public seating, difficulty walking, high cholesterol, and high blood pressure.  He has asthma and difficulty walking two blocks or going eight to ten steps.  He has sleep apnea and snoring.  He is a diabetic, on medication.  He has joint pain, knee pain, back pain, foot and ankle pain, leg and foot swelling.  He has hemorrhoids.,PAST SURGICAL HISTORY: , Includes orthopedic or knee surgery.,SOCIAL HISTORY: , He is currently single.  He drinks alcohol ten to twelve drinks a week, but does not drink five days a week and then will binge drink.  He smokes one and a half pack a day for 15 years, but he has recently stopped smoking for the past two weeks.,FAMILY HISTORY: , Obesity, heart disease, and diabetes.  Family history is negative for hypertension and stroke.,CURRENT MEDICATIONS:,  Include Diovan, Crestor, and Tricor.,MISCELLANEOUS/EATING HISTORY:  ,He says a couple of friends of his have had heart attacks and have had died.  He used to drink everyday, but stopped two years ago.  He now only drinks on weekends.  He is on his second week of Chantix, which is a medication to come off smoking completely.  Eating, he eats bad food.  He is single.  He eats things like bacon, eggs, and cheese, cheeseburgers, fast food, eats four times a day, seven in the morning, at noon, 9 p.m., and 2 a.m.  He currently weighs 344 pounds and 5'9\".  His ideal body weight is 160 pounds.  He is 184 pounds overweight.  If he lost 70% of his excess body weight that would be 129 pounds and that would get him down to 215.,REVIEW OF SYSTEMS: , Negative for head, neck, heart, lungs, GI, GU, orthopedic, or skin.  He also is positive for gout.  He denies chest pain, heart attack, coronary artery disease, congestive heart failure, arrhythmia, atrial fibrillation, pacemaker, pulmonary embolism, or CVA.  He denies venous insufficiency or thrombophlebitis.  Denies shortness of breath, COPD, or emphysema.  Denies thyroid problems, hip pain, osteoarthritis, rheumatoid arthritis, GERD, hiatal hernia, peptic ulcer disease, gallstones, infected gallbladder, pancreatitis, fatty liver, hepatitis, rectal bleeding, polyps, incontinence of stool, urinary stress incontinence, or cancer.  He denies cellulitis, pseudotumor cerebri, meningitis, or encephalitis.,PHYSICAL EXAMINATION:  ,He is alert and oriented x 3.  Cranial nerves II-XII are intact.  Neck is soft and supple.  Lungs:  He has positive wheezing bilaterally.  Heart is regular rhythm and rate.  His abdomen is soft.  Extremities:  He has 1+ pitting edema.,IMPRESSION/PLAN:,  I have explained to him the risks and potential complications of laparoscopic gastric bypass in detail and these include bleeding, infection, deep venous thrombosis, pulmonary embolism, leakage from the gastrojejuno-anastomosis, jejunojejuno-anastomosis, and possible bowel obstruction among other potential complications.  He understands.  He wants to proceed with workup and evaluation for laparoscopic Roux-en-Y gastric bypass.  He will need to get a letter of approval from Dr. XYZ.  He will need to see a nutritionist and mental health worker.  He will need an upper endoscopy by either Dr. XYZ.  He will need to go to Dr. XYZ as he previously had a sleep study.  We will need another sleep study.  He will need H. pylori testing, thyroid function tests, LFTs, glycosylated hemoglobin, and fasting blood sugar.  After this is performed, we will submit him for insurance approval.\n",
      "\n",
      "Post-processed combined:  HISTORY OF PRESENT ILLNESS: , The provider had seen ABC .  He was a very pleasant gentleman who was 42 years old, 344 pounds.  He was 5'9\".  He had a BMI of 51.  He had been overweight for ten years since the age of 33, at his highest he was 358 pounds, at his lowest 260.  He was pursuing surgical attempts of weight loss to feel good, got healthy, and began to exercise again.  He wanted to be able to exercise and played volleyball.  Physically, he was sluggish.  He got tired quickly.  He did not go out often.  When he lost weight he always regained it and he gained back more than he lost.  His biggest weight loss was 25 pounds and it was three months before he gained it back.  He did six months of not drank alcohol and not took in many calories.  He had been on multiple commercial weight loss programs included Slim Fast for one month one year ago and Atkin's Diet for one month two years ago.,PAST MEDICAL HISTORY: , He had difficulty climbed stairs, difficulty with airline seats, tied shoes, used to public seating, difficulty walking, high cholesterol, and high blood pressure.  He had asthma and difficulty walked two blocks or went eight to ten steps.  He had sleep apnea and snoring.  He was a diabetic, on medication.  He had joint pain, knee pain, back pain, foot and ankle pain, leg and foot swelling.  He had hemorrhoids.,PAST SURGICAL HISTORY: , Included orthopedic or knee surgery.,SOCIAL HISTORY: , He was currently single.  He drank alcohol ten to twelve drank a week, but did not drink five days a week and then would binge drink.  He smoked one and a half pack a day for 15 years, but he had recently stopped smoked for the past two weeks.,FAMILY HISTORY: , Obesity, heart disease, and diabetes.  Family history was negative for hypertension and stroke.,CURRENT MEDICATIONS:,  Included Diovan, Crestor, and Tricor.,MISCELLANEOUS/EATING HISTORY:  ,He said a couple of friends of his had had heart attacks and had had died.  He used to drink everyday, but stopped two years ago.  He now only drank on weekends.  He was on his second week of Chantix, which was a medication to come off smoked completely.  Eating, he ate bad food.  He was single.  He ate things like bacon, eggs, and cheese, cheeseburgers, fast food, ate four times a day, seven in the morning, at noon, 9 p.m., and 2 a.m.  He currently weighed 344 pounds and 5'9\".  His ideal body weight was 160 pounds.  He was 184 pounds overweight.  If he lost 70% of his excess body weight that would be 129 pounds and that would got him down to 215.,REVIEW OF SYSTEMS: , Negative for head, neck, heart, lungs, GI, GU, orthopedic, or skin.  He also was positive for gout.  He denied chest pain, heart attack, coronary artery disease, congestive heart failure, arrhythmia, atrial fibrillation, pacemaker, pulmonary embolism, or CVA.  He denied venous insufficiency or thrombophlebitis.  Denied shortness of breath, COPD, or emphysema.  Denied thyroid problems, hip pain, osteoarthritis, rheumatoid arthritis, GERD, hiatal hernia, peptic ulcer disease, gallstones, infected gallbladder, pancreatitis, fatty liver, hepatitis, rectal bleeding, polyps, incontinence of stool, urinary stress incontinence, or cancer.  He denied cellulitis, pseudotumor cerebri, meningitis, or encephalitis.,PHYSICAL EXAMINATION:  ,He was alert and oriented x 3.  Cranial nerves II-XII was intact.  Neck was soft and supple.  Lungs:  He had positive wheezing bilaterally.  Heart was regular rhythm and rate.  His abdomen was soft.  Extremities:  He had 1+ pitted edema.,IMPRESSION/PLAN:,  The provider had explained to him the risks and potential complications of laparoscopic gastric bypass in detail and these included bleeding, infection, deep venous thrombosis, pulmonary embolism, leakage from the gastrojejuno-anastomosis, jejunojejuno-anastomosis, and possible bowel obstruction among other potential complications.  He understands.  He wanted to proceed with workup and evaluation for laparoscopic Roux-en-Y gastric bypass.  He would need to got a letter of approval from Dr. XYZ.  He would need to see a nutritionist and mental health worker.  He would need an upper endoscopy by either Dr. XYZ.  He would need to go to Dr. XYZ as he previously had a sleep study.  We would need another sleep study.  He would need H. pylori testing, thyroid function tests, LFTs, glycosylated hemoglobin, and fasted blood sugar.  After this was performed, they would submit him for insurance approval.\n",
      "################################################################################################################\n",
      "\n",
      "Example Index:  2\n",
      "\n",
      "Example Pre-processed PAST MEDICAL HISTORY:,  Significant for hypertension.  The patient takes hydrochlorothiazide for this.  She also suffers from high cholesterol and takes Crestor.  She also has dry eyes and uses Restasis for this.  She denies liver disease, kidney disease, cirrhosis, hepatitis, diabetes mellitus, thyroid disease, bleeding disorders, prior DVT, HIV and gout.  She also denies cardiac disease and prior history of cancer.,PAST SURGICAL HISTORY: , Significant for tubal ligation in 1993.  She had a hysterectomy done in 2000 and a gallbladder resection done in 2002.,MEDICATIONS: , Crestor 20 mg p.o. daily, hydrochlorothiazide 20 mg p.o. daily, Veramist spray 27.5 mcg daily, Restasis twice a day and ibuprofen two to three times a day.,ALLERGIES TO MEDICATIONS: , Bactrim which causes a rash.  The patient denies latex allergy.,SOCIAL HISTORY: , The patient is a life long nonsmoker.  She only drinks socially one to two drinks a month.  She is employed as a manager at the New York department of taxation.  She is married with four children.,FAMILY HISTORY: , Significant for type II diabetes on her mother's side as well as liver and heart failure.  She has one sibling that suffers from high cholesterol and high triglycerides.,REVIEW OF SYSTEMS: , Positive for hot flashes.  She also complains about snoring and occasional slight asthma.  She does complain about peripheral ankle swelling and heartburn.  She also gives a history of hemorrhoids and bladder infections in the past.  She has weight bearing joint pain as well as low back degenerating discs.  She denies obstructive sleep apnea, kidney stones, bloody bowel movements, ulcerative colitis, Crohn's disease, dark tarry stools and melena.,PHYSICAL EXAMINATION:  ,On examination temperature is 97.7, pulse 84, blood pressure 126/80, respiratory rate was 20.  Well nourished, well developed in no distress.  Eye exam, pupils equal round and reactive to light.  Extraocular motions intact.  Neuro exam deep tendon reflexes 1+ in the lower extremities.  No focal neuro deficits noted.  Neck exam nonpalpable thyroid, midline trachea, no cervical lymphadenopathy, no carotid bruit.  Lung exam clear breath sounds throughout without rhonchi or wheezes however diminished.  Cardiac exam regular rate and rhythm without murmur or bruit.  Abdominal exam positive bowel sounds, soft, nontender, obese, nondistended abdomen.  No palpable tenderness.  No right upper quadrant tenderness.  No organomegaly appreciated.  No obvious hernias noted.  Lower extremity exam +1 edema noted.  Positive dorsalis pedis pulses.,ASSESSMENT: , The patient is a 56-year-old female who presents to the bariatric surgery service with a body mass index of 41 with obesity related comorbidities.  The patient is interested in gastric bypass surgery.  The patient appears to be an excellent candidate and would benefit greatly in the management of her comorbidities.,PLAN: , In preparation for surgery will obtain the usual baseline laboratory values including baseline vitamin levels.  Will proceed with our usual work up with an upper GI series as well as consultations with the dietician and the psychologist preoperatively.  I have recommended six weeks of Medifast for the patient to obtain a 10% preoperative weight loss.\n",
      "\n",
      "Post-processed combined:  PAST MEDICAL HISTORY:,  Significant for hypertension.  The patient took hydrochlorothiazide for this.  She also suffered from high cholesterol and took Crestor.  She also had dry eyes and used Restasis for this.  She denied liver disease, kidney disease, cirrhosis, hepatitis, None mellitus, thyroid disease, bled disorders, prior DVT, HIV and gout.  She also denied cardiac disease and prior history of cancer.,PAST SURGICAL HISTORY: , Significant for tubal ligation in 1993.  She had a hysterectomy done in 2000 and a gallbladder resection done in 2002.,MEDICATIONS: , Crestor 20 mg p.o. daily, hydrochlorothiazide 20 mg p.o. daily, Veramist sprayed 27.5 mcg daily, Restasis twice a day and ibuprofen two to three times a day.,ALLERGIES TO MEDICATIONS: , Bactrim which caused a rash.  The patient denied latex allergy.,SOCIAL HISTORY: , The patient was a life long nonsmoker.  She only drank socially one to two drank a month.  She was employed as a manager at the New York department of taxation.  She was married with four children.,FAMILY HISTORY: , Significant for type II None on her mother's side as well as liver and heart failure.  She had one sibling that suffered from high cholesterol and high triglycerides.,REVIEW OF SYSTEMS: , Positive for hot flashes.  She also complained about snored and occasional slight asthma.  She did complain about peripheral ankle swelling and heartburn.  She also gave a history of hemorrhoids and bladder infections in the past.  She had weight bore joint pain as well as low back degenerating discs.  She denied obstructive sleep apnea, kidney stones, bloody bowel movements, ulcerative colitis, Crohn's disease, dark tarry stools and melena.,PHYSICAL EXAMINATION:  ,On examination temperature was 97.7, pulse 84, blood pressure 126/80, respiratory rate was 20.  Well nourished, well developed in no distress.  Eye exam, pupils equal round and reactive to light.  Extraocular motions intact.  Neuro exam deep tendon None 1+ in the lower extremities.  No focal neuro deficits noted.  Neck exam nonpalpable thyroid, midline trachea, no cervical lymphadenopathy, no carotid bruit.  Lung exam clear breath sounded throughout without rhonchi or wheezed however diminished.  Cardiac exam regular rate and rhythm without murmur or bruit.  Abdominal exam positive bowel sounds, soft, nontender, obese, nondistended abdomen.  No palpable tenderness.  No right upper quadrant tenderness.  No organomegaly appreciated.  No obvious hernias noted.  Lower extremity exam +1 edema noted.  Positive dorsalis pedis pulses.,ASSESSMENT: , The patient was a 56-year-old female who presented to the bariatric surgery service with a body mass index of 41 with obesity related comorbidities.  The patient was interested in gastric bypass surgery.  The patient appears to be an excellent candidate and would benefit greatly in the management of her comorbidities.,PLAN: , In preparation for surgery would obtain the usual baseline laboratory values included baseline vitamin levels.  would proceed with our usual work up with an upper GI series as well as consultations with the dietician and the psychologist preoperatively.  The provider had recommended six weeks of Medifast for the patient to obtain a 10% preoperative weight loss.\n",
      "################################################################################################################\n",
      "\n",
      "Example Index:  3\n",
      "\n",
      "Example Pre-processed CHIEF COMPLAINT:,  Urinary retention.,HISTORY OF PRESENT ILLNESS: , This is a 66-year-old gentleman status post deceased donor kidney transplant in 12/07, who has had recurrent urinary retention issues since that time.  Most recently, he was hospitalized on 02/04/08 for acute renal insufficiency, which was probably secondary to dehydration.  He was seen by urology again at this visit for urinary retention.  He had been seen by urology during a previous hospitalization and he passed his voiding trial at the time of his stent removal on 01/22/08.  Cystoscopy showed at that time obstructive BPH.  He was started on Flomax at the time of discharge from the hospital.  During the most recent readmission on 02/04/08, he went back into urinary retention and he had had a Foley placed at the outside hospital.,REVIEW OF SYSTEMS:,  Positive for blurred vision, nasal congestion, and occasional constipation.  Denies chest pain, shortness of breath or any rashes or lesions.  All other systems were reviewed and found to be negative.,PAST MEDICAL HISTORY:,1.  End-stage renal disease, now status post deceased donor kidney transplant in 12/07.,2.  Hypertension.,3.  History of nephrolithiasis.,4.  Gout.,5.  BPH.,6.  DJD.,PAST SURGICAL HISTORY:,1.  Deceased donor kidney transplant in 12/07.,2.  Left forearm and left upper arm fistula placements.,FAMILY HISTORY:  ,Significant for mother with an unknown type of cancer, possibly colon cancer or lung and prostate problems on his father side of the family.  He does not know whether his father side of the family had any history of prostate cancer.,HOME MEDICATIONS:,1.  Norvasc.,2.  Toprol 50 mg.,3.  Clonidine 0.2 mg.,4.  Hydralazine.,5.  Flomax.,6.  Allopurinol.,7.  Sodium bicarbonate.,8.  Oxybutynin.,9.  Coumadin.,10.  Aspirin.,11.  Insulin 70/30.,12.  Omeprazole.,13.  Rapamune.,14.  CellCept.,15.  Prednisone.,16.  Ganciclovir.,17.  Nystatin swish and swallow.,18.  Dapsone.,19.  Finasteride.,ALLERGIES:,  No known drug allergies.,PHYSICAL EXAMINATION:,GENERAL:  This is a well-developed, well-nourished male, in no acute distress.  VITAL SIGNS:  Temperature 98, blood pressure 129/72, pulse 96, and weight 175.4 pounds.  LUNGS:  Clear to auscultation bilaterally.  CARDIOVASCULAR:  Regular rate and rhythm with a 3/6 systolic murmur.  ABDOMEN:  Right lower quadrant incision site scar well healed.  Nontender to palpation.  Liver and spleen not enlarged.  No hernias appreciated.  PENIS:  Normal male genitalia.  No lesions appreciated on the penis.  Previous DRE showed the prostate of approximately 40 grams and no nodules.  Foley in place and draining clear urine.,The patient underwent fill and pull study, in which his bladder tolerated 120 ml of sterile water passively filling his bladder.  He spontaneously voided without the Foley 110 mL.,ASSESSMENT AND PLAN:  ,This is a 66-year-old male with signs and symptoms of benign prostatic hypertrophy, who has had recurrent urinary retention since the kidney transplant in 12/07.  He passed his fill and pull study and was thought to self-catheterize in the event that he does incur urinary retention again.  We discussed with Mr. Barker that he has a urologist closer to his home and he lives approximately 3 hours away; however, he desires to continue follow up with the urology clinic at MCG and has been set up for followup in 6 weeks.  He was also given a prescription for 6 months of Flomax and Proscar.  He did not have a PSA drawn today as he had a catheter in place, therefore his PSA could be falsely elevated.  He will have PSA level drawn either just before his visit for followup.\n",
      "\n",
      "Post-processed combined:  CHIEF COMPLAINT:,  Urinary retention.,HISTORY OF PRESENT ILLNESS: , This was a 66-year-old gentleman status posted deceased donor kidney transplant in 12/07, who had had recurrent urinary retention issues since that time.  Most recently, he was hospitalized on 02/04/08 for acute renal insufficiency, which was probably secondary to dehydration.  He was seen by urology again at this visit for urinary retention.  He had been seen by urology during a previous hospitalization and he passed his voided trial at the time of his stent removal on 01/22/08.  Cystoscopy showed at that time obstructive BPH.  He was started on Flomax at the time of discharge from the hospital.  During the most recent readmission on 02/04/08, he went back into urinary retention and he had had a Foley placed at the outside hospital.,REVIEW OF SYSTEMS:,  Positive for blurred vision, nasal congestion, and occasional constipation.  Denied chest pain, shortness of breath or any rashes or lesions.  All other systems were reviewed and found to be negative.,PAST MEDICAL HISTORY:,1.  End-stage renal disease, now status posted deceased donor kidney transplant in 12/07.,2.  Hypertension.,3.  History of nephrolithiasis.,4.  Gout.,5.  BPH.,6.  DJD.,PAST SURGICAL HISTORY:,1.  Deceased donor kidney transplant in 12/07.,2.  Left forearm and left upper arm fistula placements.,FAMILY HISTORY:  ,Significant for mother with an unknown type of cancer, possibly colon cancer or lung and prostate problems on his father side of the family.  He did not know whether his father side of the family had any history of prostate cancer.,HOME MEDICATIONS:,1.  Norvasc.,2.  Toprol 50 mg.,3.  Clonidine 0.2 mg.,4.  Hydralazine.,5.  Flomax.,6.  Allopurinol.,7.  Sodium bicarbonate.,8.  Oxybutynin.,9.  Coumadin.,10.  Aspirin.,11.  Insulin 70/30.,12.  Omeprazole.,13.  Rapamune.,14.  CellCept.,15.  Prednisone.,16.  Ganciclovir.,17.  Nystatin swish and swallow.,18.  Dapsone.,19.  Finasteride.,ALLERGIES:,  No known drug allergies.,PHYSICAL EXAMINATION:,GENERAL:  This was a well-developed, well-nourished male, in no acute distress.  VITAL SIGNS:  Temperature 98, blood pressure 129/72, pulse 96, and weight 175.4 pounds.  LUNGS:  Clear to auscultation bilaterally.  CARDIOVASCULAR:  Regular rate and rhythm with a 3/6 systolic murmur.  ABDOMEN:  Right lower quadrant incision site scar well healed.  Nontender to palpation.  Liver and spleen not enlarged.  No hernias appreciated.  PENIS:  Normal male genitalia.  No lesions appreciated on the penis.  Previous DRE showed the prostate of approximately 40 grams and no nodules.  Foley in place and drained clear urine.,The patient underwent fill and pulled study, in which his bladder tolerated 120 ml of sterile water passively filled his bladder.  He spontaneously voided without the Foley 110 mL.,ASSESSMENT AND PLAN:  ,This was a 66-year-old male with signs and symptoms of benign prostatic hypertrophy, who had had recurrent urinary retention since the kidney transplant in 12/07.  He passed his fill and pulled study and was thought to self-catheterize in the event that he did incur urinary retention again.  We discussed with Mr. Barker that he had a urologist closer to his home and he lives approximately 3 hours away; however, he desired to continue followed up with the urology clinic at MCG and had been set up for followup in 6 weeks.  He was also given a prescription for 6 months of Flomax and Proscar.  He did not have a PSA drawn  as he had a catheter in place, therefore his PSA could be falsely elevated.  He would have PSA level drawn either just before his visit for followup.\n",
      "################################################################################################################\n",
      "\n",
      "Example Index:  4\n",
      "\n",
      "Example Pre-processed CHIEF COMPLAINT: , Right distal ureteral calculus.,HISTORY OF PRESENT ILLNESS:  ,The patient had hematuria and a CT urogram at ABC Radiology on 01/04/07 showing a 1 cm non-obstructing calcification in the right distal ureter.  He had a KUB also showing a teardrop shaped calcification apparently in the right lower ureter.  He comes in now for right ureteroscopy, Holmium laser lithotripsy, right ureteral stent placement.,PAST MEDICAL HISTORY:,1.  Prostatism.,2.  Coronary artery disease.,PAST SURGICAL HISTORY:,1.  Right spermatocelectomy.,2.  Left total knee replacement in 1987.,3.  Right knee in 2005.,MEDICATIONS:,1.  Coumadin 3 mg daily.,2.  Fosamax.,3.  Viagra p.r.n.,ALLERGIES: , NONE.,REVIEW OF SYSTEMS:,  CARDIOPULMONARY:  No shortness of breath or chest pain.  GI:  No nausea, vomiting, diarrhea or constipation.  GU:  Voids well.  MUSCULOSKELETAL:  No weakness or strokes.,FAMILY HISTORY: , Noncontributory.,PHYSICAL EXAMINATION:,GENERAL APPEARANCE:  An alert male in no distress.,HEENT:  Grossly normal.,NECK:  Supple.,LUNGS:  Clear.,HEART:  Normal sinus rhythm.  No murmur or gallop.,ABDOMEN:  Soft.  No masses.,GENITALIA:  Normal penis.  Testicles descended bilaterally.,RECTAL:  Examination benign.,EXTREMITIES:  No edema.,IMPRESSION: , Right distal ureteral calculus.,PLAN: , Right ureteroscopy, ureteral lithotripsy.  Risks and complications discussed with the patient.  He signed a true informed consent.  No guarantees or warrantees were given.\n",
      "\n",
      "Post-processed combined:  CHIEF COMPLAINT: , Right distal ureteral calculus.,HISTORY OF PRESENT ILLNESS:  ,The patient had hematuria and a CT urogram at ABC Radiology on 01/04/07 showed a 1 cm non-obstructing calcification in the right distal ureter.  He had a KUB also showed a teardrop shaped calcification apparently in the right lower ureter.  He came in now for right ureteroscopy, Holmium laser lithotripsy, right ureteral stent placement.,PAST MEDICAL HISTORY:,1.  Prostatism.,2.  Coronary artery disease.,PAST SURGICAL HISTORY:,1.  Right spermatocelectomy.,2.  Left total knee replacement in 1987.,3.  Right knee in 2005.,MEDICATIONS:,1.  Coumadin 3 mg daily.,2.  Fosamax.,3.  Viagra p.r.n.,ALLERGIES: , NONE.,REVIEW OF SYSTEMS:,  CARDIOPULMONARY:  No shortness of breath or chest pain.  GI:  No nausea, vomiting, diarrhea or constipation.  GU:  Voids well.  MUSCULOSKELETAL:  No weakness or strokes.,FAMILY HISTORY: , Noncontributory.,PHYSICAL EXAMINATION:,GENERAL APPEARANCE:  An alert male in no distress.,HEENT:  Grossly normal.,NECK:  Supple.,LUNGS:  Clear.,HEART:  Normal sinus rhythm.  No murmur or gallop.,ABDOMEN:  Soft.  No masses.,GENITALIA:  Normal penis.  Testicles descended bilaterally.,RECTAL:  Examination benign.,EXTREMITIES:  No edema.,IMPRESSION: , Right distal ureteral calculus.,PLAN: , Right ureteroscopy, ureteral lithotripsy.  Risks and complications discussed with the patient.  He signed a true informed consent.  No guarantees or warrantees were given.\n",
      "################################################################################################################\n",
      "\n",
      "Example Index:  5\n",
      "\n",
      "Example Pre-processed CHIEF COMPLAINT: , Testicular pain.,HISTORY OF PRESENT ILLNESS:,  The patient is a 4-year-old boy with a history of abrupt onset of left testicular pain at 11:30 this morning.  He was unable to walk and would not stand upright, and had fairly significant discomfort, so the parents checked his panel because of it.  Because of this, they took him to Emergency Department, at which time, he had no swelling noted initially, but very painful.  He had no voiding or stooling problems.  No nausea, vomiting or fever.  Family denies trauma or dysuria.  At that time, he was going to get an ultrasound done, but the mother said that all of sudden the patient stated the pain had resolved.  He has had hot chocolate this morning at 10:30 in the morning and water around 2:30 in the morning.  He has not had any pain since but states that he has had pain in the past, not as long and states there was a twisting sensation.  He has no recent cold or flu, although he had rhinorrhea about 3 weeks ago.  He is on no medications and he is here for evaluation.,PAST MEDICAL HISTORY:,  The patient has no known allergies.  He is term delivery via spontaneous vaginal delivery.  He has had no problems or hospitalizations with circumcision.,PAST SURGICAL HISTORY: , He has had no previous surgeries.,REVIEW OF SYSTEMS:,  All 14-point review of systems were negative except for the above left testicular pain and the history of possible upper respiratory infection about 2 to 3 weeks ago.,IMMUNIZATIONS: , Up-to-date.,FAMILY HISTORY: , The patient lives at home with both parents who are Spanish speaking.  He is not in school.,MEDICATIONS:,  He is on no medications.,PHYSICAL EXAMINATION:,VITAL SIGNS:  On physical exam, weight is 15.9 kg.,GENERAL:  The patient is a cooperative little boy.,HEENT:  Normal head and neck exam.  No oral or nasal discharge.,NECK:  Without masses.,CHEST:  Without masses.,LUNGS:  Clear.,CARDIAC:  Without murmurs or gallops.,ABDOMEN:  Soft.  No masses or tenderness.  His scrotum did not have any swelling at the present time.  There was only minimal discomfort with palpation at the left inguinal area, but no masses were noted.  No palpable nodules such as appendix testis and no swelling was noted and he had mild epididymal swelling only.  His left testis was slightly harder than the right, but this was not very significant.,EXTREMITIES:  He had full range of motion in all 4 extremities.,SKIN:  Warm, pink, and dry.,NEUROLOGIC:  Grossly intact.,LABORATORY DATA: , Ultrasound was obtained today showing no blood flow or poor blood flow on the left except for increased blood flow to the epididymis on the study done at about 1330 hours, and second one done around 1630 hours was normal flow, possible increased flow on the left.  This is personally reviewed by me.  The right was normal.  No masses were appreciated.  There was some mild change in echotexture on the left on the initial study, which had apparently resolved on the second, but may be due to the technical aspects of the study.,ASSESSMENT/PLAN: , The patient has a possibly torsion detorsion versus other acute testicular problem.  If the patient has indeed testicular torsion, there is an increased possibility that it may reoccur again, actually within the first 24 to 36 hours and as such is recommended doing a left scrotal exploration with possible detorsion of left testis, possible orchiectomy if the testis is markedly abnormal or nonviable, which probably is not the case, and bilateral testes fixation if the torsion is found.  I discussed the pre and postsurgical care with the parents.  Procedure itself with potential complications, risks, benefits, and alternatives of surgery including that the torsion could occur again, although it is less likely after the surgical fixation procedure.  The parents understand and wished to proceed.  We will schedule this later today emergently.\n",
      "\n",
      "Post-processed combined:  CHIEF COMPLAINT: , Testicular pain.,HISTORY OF PRESENT ILLNESS:,  The patient was a 4-year-old boy with a history of abrupt onset of left testicular pain at 11:30 this morning.  He was unable to walk and would not stand upright, and had fairly significant discomfort, so the parents checked his panel because of it.  Because of this, they took him to Emergency Department, at which time, he had no swelled noted initially, but very painful.  He had no voiding or stooled problems.  No nausea, vomiting or fever.  Family denied trauma or dysuria.  At that time, he was going to get an ultrasound done, but the mother said that all of sudden the patient stated the pain had resolved.  He had had hot chocolate this morning at 10:30 in the morning and water around 2:30 in the morning.  He had not had any pain since but stated that he had had pain in the past, not as long and stated there was a twisting sensation.  He had no recent cold or flu, although he had rhinorrhea about 3 weeks ago.  He was on no medications and he was here for evaluation.,PAST MEDICAL HISTORY:,  The patient had no known allergies.  He was term delivery via spontaneous vaginal delivery.  He had had no problems or hospitalizations with circumcision.,PAST SURGICAL HISTORY: , He had had no previous surgeries.,REVIEW OF SYSTEMS:,  All 14-point review of systems were negative except for the above left testicular pain and the history of possible upper respiratory infection about 2 to 3 weeks ago.,IMMUNIZATIONS: , Up-to-date.,FAMILY HISTORY: , The patient lives at home with both parents who was Spanish speaking.  He was not in school.,MEDICATIONS:,  He was on no medications.,PHYSICAL EXAMINATION:,VITAL SIGNS:  On physical exam, weight was 15.9 kg.,GENERAL:  The patient was a cooperative little boy.,HEENT:  Normal head and neck exam.  No oral or nasal discharge.,NECK:  Without masses.,CHEST:  Without masses.,LUNGS:  Clear.,CARDIAC:  Without murmurs or gallops.,ABDOMEN:  Soft.  No masses or tenderness.  His scrotum did not have any swelled at the present time.  There was only minimal discomfort with palpation at the left inguinal area, but no masses were noted.  No palpable nodules such as appendix testis and no swelled was noted and he had mild epididymal swelled only.  His left testis was slightly harder than the right, but this was not very significant.,EXTREMITIES:  He had full range of motion in all 4 extremities.,SKIN:  Warm, pink, and dry.,NEUROLOGIC:  Grossly intact.,LABORATORY DATA: , Ultrasound was obtained  showed no blood flow or poor blood flow on the left except for increased blood flow to the epididymis on the study done at about 1330 hours, and second one done around 1630 hours was normal flow, possible increased flow on the left.  This was personally reviewed by The provider.  The right was normal.  No masses were appreciated.  There was some mild change in echotexture on the left on the initial study, which had apparently resolved on the second, but may be due to the technical aspects of the study.,ASSESSMENT/PLAN: , The patient had a possibly torsion detorsion versus other acute testicular problem.  If the patient had indeed testicular torsion, there was an increased possibility that it may reoccur again, actually within the first 24 to 36 hours and as such was recommended doing a left scrotal exploration with possible detorsion of left testis, possible orchiectomy if the testis was markedly abnormal or nonviable, which probably was not the case, and bilateral testes fixation if the torsion was found.  The provider discussed the pre and postsurgical care with the parents.  Procedure itself with potential complications, risks, benefits, and alternatives of surgery included that the torsion could occur again, although it was less likely after the surgical fixation procedure.  The parents understand and wished to proceed.  We would schedule this later  emergently.\n",
      "################################################################################################################\n",
      "\n",
      "Example Index:  6\n",
      "\n",
      "Example Pre-processed SUBJECTIVE:,  The patient is a 65-year-old man with chronic prostatitis who returns for recheck.  He follow with Dr. XYZ about every three to four months.  His last appointment was in May 2004.  Has had decreased libido since he has been on Proscar.  He had tried Viagra with some improvement.  He has not had any urinary tract infection since he has been on Proscar.  Has nocturia x 3 to 4.,PAST MEDICAL HISTORY/SURGERIES/HOSPITALIZATIONS:  ,Soon after birth for treatment of an inperforated anus and curvature of the penis.  At the age of 70 had another penile operation.  At the age of 27 and 28 he had repeat operations to correct this.  He did have complications of deep vein thrombosis and pulmonary embolism with one of those operations.  He has had procedures in the past for hypospadias, underwent an operation in 1988 to remove some tissue block in the anus.  In January of 1991 underwent cystoscopy.  He was hospitalized in 1970 for treatment of urinary tract infection.  In 2001, left rotator cuff repair with acromioplasty and distal clavicle resection.  In 2001, colonoscopy that was normal.  In 2001, prostate biopsy that showed chronic prostatitis.  In 2003, left inguinal hernia repair with MESH.,MEDICATIONS:,  Bactrim DS one pill a day, Proscar 5 mg a day, Flomax 0.4 mg daily.  He also uses Metamucil four times daily and stool softeners for bedtime.,ALLERGIES:,  Cipro.,FAMILY HISTORY:,  Father died from CA at the age of 79.  Mother died from postoperative infection at the age of 81.  Brother died from pancreatitis at the age of 40 and had a prior history of mental illness.  Father also had a prior history of lung cancer.  Mother had a history of breast cancer.  Father also had glaucoma.  He does not have any living siblings.  Friend died a year and half ago.,PERSONAL HISTORY:,  Negative for use of alcohol or tobacco.  He is a professor at College and teaches history and bible.,REVIEW OF SYSTEMS:,Eyes, nose and throat:  Wears eye glasses.  Has had some gradual decreased hearing ability.,Pulmonary:  Denies difficulty with cough or sputum production or hemoptysis.,Cardiac:  Denies palpitations, chest pain, orthopnea, nocturnal dyspnea, or edema.,Gastrointestinal:  Has had difficulty with constipation.  He denies any positive stools.  Denies peptic ulcer disease.  Denies reflux or melena.,Genitourinary:  As mentioned previously.,Neurologic:  Without symptoms.,Bones and Joints:  He has had occasional back pain.,Hematologic:  Occasionally has had some soreness in the right axillary region, but has not had known lymphadenopathy.,Endocrine:  He has not had a history of hypercholesterolemia or diabetes.,Dermatologic:  Without symptoms.,Immunization:  He had pneumococcal vaccination about three years ago.  Had an adult DT immunization five years ago.,PHYSICAL EXAMINATION:,Vital Signs:  Weight:  202.8 pounds.  Blood pressure:  126/72.  Pulse:  60.  Temperature:  96.8 degrees.,General Appearance:  He is a middle-aged man who is not in any acute distress.,HEENT:  Eyes:  Pupils are equally regular, round and reactive to light.  Extraocular movements are intact without nystagmus.  Visual fields were full to direct confrontation.  Funduscopic exam reveals middle size disc with sharp margins.  Ears:  Tympanic membranes are clear.  Mouth:  No oral mucosal lesions are seen.,Neck:  Without adenopathy or thyromegaly.,Chest:  Lungs are resonant to percussion.  Auscultation reveals normal breath sounds.,Heart:  Normal S1 and S2 without gallops or rubs.,Abdomen:  Without tenderness or masses to palpation.,Genitorectal exam:  Not repeated since these have been performed recently by Dr. Tandoc.,Extremities:  Without edema.,Neurologic:  Reflexes are +2 and symmetric throughout.  Babinski is negative and sensation is intact.  Cranial nerves are intact without localizing signs.  Cerebellar tension is normal.,IMPRESSION/PLAN:,1.  Chronic prostatitis.  He has been stable in this regard.,2.  Constipation.  He is encouraged to continue with his present measures.  Additionally, a TSH level will be obtained.,3.  Erectile dysfunction.  Testosterone level and comprehensive metabolic profile will be obtained.,4.  Anemia.  CBC will be rechecked.  Additional stools for occult blood will be rechecked.\n",
      "\n",
      "Post-processed combined:  SUBJECTIVE:,  The patient was a 65-year-old man with chronic prostatitis who returned for recheck.  He followed with Dr. XYZ about every three to four months.  His last appointment was in May 2004.  Had had decreased libido since he had been on Proscar.  He had tried Viagra with some improvement.  He had not had any urinary tract infection since he had been on Proscar.  Had nocturia x 3 to 4.,PAST MEDICAL HISTORY/SURGERIES/HOSPITALIZATIONS:  ,Soon after birth for treatment of an inperforated anus and curvature of the penis.  At the age of 70 had another penile operation.  At the age of 27 and 28 he had repeat operations to correct this.  He did had complications of deep vein thrombosis and pulmonary embolism with one of those operations.  He had had procedures in the past for hypospadias, underwent an operation in 1988 to remove some tissue block in the anus.  In January of 1991 underwent cystoscopy.  He was hospitalized in 1970 for treatment of urinary tract infection.  In 2001, left rotator cuff repair with acromioplasty and distal clavicle resection.  In 2001, colonoscopy that was normal.  In 2001, prostate biopsy that showed chronic prostatitis.  In 2003, left inguinal hernia repair with MESH.,MEDICATIONS:,  Bactrim DS one pill a day, Proscar 5 mg a day, Flomax 0.4 mg daily.  He also used Metamucil four times daily and stooled softeners for bedtime.,ALLERGIES:,  Cipro.,FAMILY HISTORY:,  Father died from CA at the age of 79.  Mother died from postoperative infection at the age of 81.  Brother died from pancreatitis at the age of 40 and had a prior history of mental illness.  Father also had a prior history of lung cancer.  Mother had a history of breast cancer.  Father also had glaucoma.  He did not had any lived siblings.  Friend died a year and half ago.,PERSONAL HISTORY:,  Negative for use of alcohol or tobacco.  He was a professor at College and taught history and bible.,REVIEW OF SYSTEMS:,Eyes, nose and throat:  Wore eye glasses.  Had had some gradual decreased hearing ability.,Pulmonary:  Denied difficulty with cough or sputum production or hemoptysis.,Cardiac:  Denied palpitations, chest pain, orthopnea, nocturnal dyspnea, or edema.,Gastrointestinal:  Had had difficulty with constipation.  He denied any positive stools.  Denied peptic ulcer disease.  Denied reflux or melena.,Genitourinary:  As mentioned previously.,Neurologic:  Without symptoms.,Bones and Joints:  He had had occasional back pain.,Hematologic:  Occasionally had had some soreness in the right axillary region, but had not had known lymphadenopathy.,Endocrine:  He had not had a history of hypercholesterolemia or diabetes.,Dermatologic:  Without symptoms.,Immunization:  He had pneumococcal vaccination about three years ago.  Had an adult DT immunization five years ago.,PHYSICAL EXAMINATION:,Vital Signs:  Weight:  202.8 pounds.  Blood pressure:  126/72.  Pulse:  60.  Temperature:  96.8 degrees.,General Appearance:  He was a middle-aged man who was not in any acute distress.,HEENT:  Eyes:  Pupils was equally regular, round and reactive to light.  Extraocular movements was intact without nystagmus.  Visual fields were full to direct confrontation.  Funduscopic exam revealed middle size disc with sharp margins.  Ears:  Tympanic membranes was clear.  Mouth:  No oral mucosal lesions was seen.,Neck:  Without adenopathy or thyromegaly.,Chest:  Lungs was resonant to percussion.  Auscultation revealed normal breath sounds.,Heart:  Normal S1 and S2 without gallops or rubs.,Abdomen:  Without tenderness or masses to palpation.,Genitorectal exam:  Not repeated since these had been performed recently by Dr. Tandoc.,Extremities:  Without edema.,Neurologic:  Reflexes was +2 and symmetric throughout.  Babinski was negative and sensation was intact.  Cranial nerves was intact without localized signs.  Cerebellar tension was normal.,IMPRESSION/PLAN:,1.  Chronic prostatitis.  He had been stable in this regard.,2.  Constipation.  He was encouraged to continue with his present measures.  Additionally, a TSH level would be obtained.,3.  Erectile dysfunction.  Testosterone level and comprehensive metabolic profile would be obtained.,4.  Anemia.  CBC would be rechecked.  Additional stools for occult blood would be rechecked.\n",
      "################################################################################################################\n",
      "\n",
      "Example Index:  7\n",
      "\n",
      "Example Pre-processed HISTORY OF PRESENT ILLNESS: , The patient is a 62-year old male with a Gleason score 8 adenocarcinoma of the prostate involving the left and right lobes.  He has a PSA of 3.1, with a prostate gland size of 41 grams.  This was initially found on rectal examination with a nodule on the right side of the prostate, showing enlargement relative to the left.  He has undergone evaluation with a bone scan that showed a right parietal lesion uptake and was seen by Dr. XXX and ultimately underwent an open biopsy that was not malignant.  Prior to this, he has also had a ProstaScint scan that was negative for any metastatic disease.  Again, he is being admitted to undergo a radical prostatectomy, the risks, benefits, and alternatives of which have been discussed, including that of bleeding, and a blood transfusion.,PAST MEDICAL HISTORY: , Coronary stenting.  History of high blood pressure, as well.  He has erectile dysfunction and has been treated with Viagra.,MEDICATIONS: , Lisinopril, Aspirin, Zocor, and Prilosec.,ALLERGIES:,  Penicillin.,SOCIAL HISTORY:,  He is not a smoker.  He does drink six beers a day.,REVIEW OF SYSTEMS: , Remarkable for his high blood pressure and drug allergies, but otherwise unremarkable, except for some obstructive urinary symptoms, with an AUA score of 19.,PHYSICAL EXAMINATION:,HEENT:  Examination unremarkable.,Breasts:  Examination deferred.,Chest:  Clear to auscultation.,Cardiac:  Regular rate and rhythm.,Abdomen:  Soft and nontender.  He has no hernias.,Genitourinary:  There is a normal-appearing phallus, prominence of the right side of prostate.,Extremities:  Examination unremarkable.,Neurologic:  Examination nonfocal.,IMPRESSION:,1.  Adenocarcinoma of the prostate.,2.  Erectile dysfunction.,PLAN:  ,The patient will undergo a bilateral pelvic lymphadenectomy and radical retropubic prostatectomy.  The risks, benefits, and alternatives of this have been discussed.  He understands and asks that I proceed ahead.  We also discussed bleeding and blood transfusions, and the risks, benefits and alternatives thereof.\n",
      "\n",
      "Post-processed combined:  HISTORY OF PRESENT ILLNESS: , The patient was a 62-year old male with a Gleason score 8 adenocarcinoma of the prostate involving the left and right lobes.  He had a PSA of 3.1, with a prostate gland size of 41 grams.  This was initially found on rectal examination with a nodule on the right side of the prostate, showed enlargement relative to the left.  He had undergone evaluation with a bone scan that showed a right parietal lesion uptake and was seen by Dr. XXX and ultimately underwent an open biopsy that was not malignant.  Prior to this, he had also had a ProstaScint scan that was negative for any metastatic disease.  Again, he was being admitted to undergo a radical prostatectomy, the risks, benefits, and alternatives of which had been discussed, included that of bleeding, and a blood transfusion.,PAST MEDICAL HISTORY: , Coronary stenting.  History of high blood pressure, as well.  He had erectile dysfunction and had been treated with Viagra.,MEDICATIONS: , Lisinopril, Aspirin, Zocor, and Prilosec.,ALLERGIES:,  Penicillin.,SOCIAL HISTORY:,  He was not a smoker.  He did drink six beers a day.,REVIEW OF SYSTEMS: , Remarkable for his high blood pressure and drug allergies, but otherwise unremarkable, except for some obstructive urinary symptoms, with an AUA score of 19.,PHYSICAL EXAMINATION:,HEENT:  Examination unremarkable.,Breasts:  Examination deferred.,Chest:  Clear to auscultation.,Cardiac:  Regular rate and rhythm.,Abdomen:  Soft and nontender.  He had no hernias.,Genitourinary:  There was a normal-appearing phallus, prominence of the right side of prostate.,Extremities:  Examination unremarkable.,Neurologic:  Examination nonfocal.,IMPRESSION:,1.  Adenocarcinoma of the prostate.,2.  Erectile dysfunction.,PLAN:  ,The patient would undergo a bilateral pelvic lymphadenectomy and radical retropubic prostatectomy.  The risks, benefits, and alternatives of this had been discussed.  He understood and asked that The provider proceed ahead.  We also discussed bleeding and blood transfusions, and the risks, benefits and alternatives thereof.\n",
      "################################################################################################################\n",
      "\n",
      "Example Index:  8\n",
      "\n",
      "Example Pre-processed HISTORY OF PRESENT ILLNESS: , The patient returns for followup evaluation 21 months after undergoing prostate fossa irradiation for recurrent Gleason 8 adenocarcinoma.  His urinary function had been stable until 2 days ago.  Over the past couple of days he has been waking every 1 to 1-1/2 hours and has had associated abdominal cramping, as well as a bit of sore throat (his wife has had a cold for about 2 weeks).  His libido remains intact (but he has not been sexually functional), but his erections have been dysfunctional.  The bowel function is stable with occasional irritative hemorrhoidal symptoms.  He has had no hematochezia.  The PSA has been slowly rising in recent months.  This month it reached 1.2.,PAIN ASSESSMENT: , Abdominal cramping in the past 2 days.  No more than 1 to 2 of 10 in intensity.,PERFORMANCE STATUS: , Karnofsky score 100.  He continues to work full-time.,NUTRITIONAL STATUS: , Appetite has been depressed over the past couple of days, and he has lost about 5 pounds.  (Per him, mostly this week.),PSYCHIATRIC: , Some stress regarding upcoming IRS audits of clients.,REVIEW OF SYSTEMS: , Otherwise noncontributory.,MEDICATIONS,1.  NyQuil.,2.  Timolol eye drops.,3.  Aspirin.,4.  Advil.,5.  Zinc.,PHYSICAL EXAMINATION,GENERAL:  Pleasant, well-developed, gentleman in no acute distress.  Weight is 197 pounds.,HEENT:  Sclerae and conjunctivae are clear.  Extraocular movement are intact.  Hearing is grossly intact.  The oral cavity is without thrush.  There is minor pharyngitis.,LYMPH NODES:  No palpable lymphadenopathy.,SKELETAL:  No focal skeletal tenderness.,LUNGS:  Clear to auscultation bilaterally.,CARDIOVASCULAR:  Regular rate and rhythm.,ABDOMEN:  Soft, nontender without palpable mass or organomegaly.,DIGITAL RECTAL EXAMINATION:  There are external hemorrhoids.  The prostate fossa is flat without suspicious nodularity.  There is no blood on the examining glove.,EXTREMITIES:  Without clubbing, cyanosis, or edema.,NEUROLOGIC:  Without focal deficit.,IMPRESSION:,  Concerning slow ongoing rise in PSA.,PLAN: , Discussed significance of this in detail with the patient.  He understands the probability that there may be residual cancer although the location is unknown.  For now there is no good evidence that early management affects the ultimate prognosis.  Accordingly, he is comfortable with careful monitoring, and I have asked him to return here in 3 months with an updated PSA.  I also suggested that he reestablish contact with Dr. X at his convenience.\n",
      "\n",
      "Post-processed combined:  HISTORY OF PRESENT ILLNESS: , The patient returns for followup evaluation 21 months after underwent prostate fossa irradiation for recurrent Gleason 8 adenocarcinoma.  His urinary function had been stable until 2 days ago.  Over the past couple of days he had been waking every 1 to 1-1/2 hours and had had associated abdominal cramping, as well as a bit of sore throat (his wife had had a cold for about 2 weeks).  His libido remained intact (but he had not been sexually functional), but his erections had been dysfunctional.  The bowel function was stable with occasional irritative hemorrhoidal symptoms.  He had had no hematochezia.  The PSA had been slowly rising in recent months.  This month it reached 1.2.,PAIN ASSESSMENT: , Abdominal cramping in the past 2 days.  No more than 1 to 2 of 10 in intensity.,PERFORMANCE STATUS: , Karnofsky scored 100.  He continued to work full-time.,NUTRITIONAL STATUS: , Appetite had been depressed over the past couple of days, and he had lost about 5 pounds.  (Per him, mostly this week.),PSYCHIATRIC: , Some stressed regarded upcoming IRS audits of clients.,REVIEW OF SYSTEMS: , Otherwise noncontributory.,MEDICATIONS,1.  NyQuil.,2.  Timolol eye drops.,3.  Aspirin.,4.  Advil.,5.  Zinc.,PHYSICAL EXAMINATION,GENERAL:  Pleasant, well-developed, gentleman in no acute distress.  Weight was 197 pounds.,HEENT:  Sclerae and conjunctivae was clear.  Extraocular movement was intact.  Heard was grossly intact.  The oral cavity was without thrush.  There was minor pharyngitis.,LYMPH NODES:  No palpable lymphadenopathy.,SKELETAL:  No focal skeletal tenderness.,LUNGS:  Clear to auscultation bilaterally.,CARDIOVASCULAR:  Regular rate and rhythm.,ABDOMEN:  Soft, nontender without palpable mass or organomegaly.,DIGITAL RECTAL EXAMINATION:  There was external hemorrhoids.  The prostate fossa was flat without suspicious nodularity.  There was no blood on the examined glove.,EXTREMITIES:  Without clubbing, cyanosis, or edema.,NEUROLOGIC:  Without focal deficit.,IMPRESSION:,  Concerned slow ongoing rise in PSA.,PLAN: , Discussed significance of this in detail with the patient.  He understood the probability that there may be residual cancer although the location was unknown.  For now there was no good evidence that early management affected the ultimate prognosis.  Accordingly, he was comfortable with careful monitoring, and The provider had asked him to return here in 3 months with an updated PSA.  The provider also suggested that he reestablish contact with Dr. X at his convenience.\n",
      "################################################################################################################\n"
     ]
    }
   ],
   "source": [
    "for i, j in enumerate(df['Past Tense'][0:9]):\n",
    "    print('\\nExample Index: ', i)\n",
    "    print('\\nExample Pre-processed', df['Full Note'][i])\n",
    "    print('\\nPost-processed combined: ', j)\n",
    "    print('################################################################################################################')"
   ],
   "metadata": {
    "collapsed": false,
    "pycharm": {
     "name": "#%%\n"
    }
   }
  },
  {
   "cell_type": "code",
   "execution_count": 6,
   "outputs": [],
   "source": [],
   "metadata": {
    "collapsed": false,
    "pycharm": {
     "name": "#%%\n"
    }
   }
  }
 ],
 "metadata": {
  "kernelspec": {
   "display_name": "Python 3",
   "language": "python",
   "name": "python3"
  },
  "language_info": {
   "codemirror_mode": {
    "name": "ipython",
    "version": 2
   },
   "file_extension": ".py",
   "mimetype": "text/x-python",
   "name": "python",
   "nbconvert_exporter": "python",
   "pygments_lexer": "ipython2",
   "version": "2.7.6"
  }
 },
 "nbformat": 4,
 "nbformat_minor": 0
}